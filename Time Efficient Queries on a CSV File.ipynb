{
 "cells": [
  {
   "cell_type": "markdown",
   "metadata": {},
   "source": [
    "# Time Efficient Queries on a CSV File\n",
    "\n",
    "In this project we aim to build fast queries that can be excuted on a CSV file in order to answer questions and conclude insights about the data being investigated.\n",
    "\n",
    "Our approach is to create a class that represents our inventory, the class methodes represent the different queries we want to execute and in order to provide fast execution; preprocessing of the data will be implemented as well as using logarithmic search on sorted data.\n",
    "\n",
    "For each of the following queries we will implement two different methods and later we will analyis both with respect to execution time.\n",
    "\n",
    "- Get laptop from ID.\n",
    "- Given an amount of money, find whether there are one or sum of two laptops which have price equal to that given amount\n",
    "- Identify all laptops whose price falls within a given budget.\n",
    "\n",
    "\n",
    "\n",
    "## Dataset\n",
    "\n",
    "For this project, the dataset `laptops.csv` will be used. It contains information about 1300 laptop models.\n",
    "The dataset can be downloaded from (here)[https://www.kaggle.com/ionaskel/laptop-prices/download].\n",
    "\n",
    "Following are the 13 different columns in our dataset:\n",
    "- __ID__ : Unique identifier for the laptop.\n",
    "- __Company__ : Manufacturer company name.\n",
    "- __Product__ : Product name.\n",
    "- __TypeName__ : Laptop type.\n",
    "- __Inches__ : Screen size in inches.\n",
    "- __ScreenResolution__ : Screen resolution in pixels.\n",
    "- __Cpu__ : CPU model.\n",
    "- __Ram__ : RAM amount.\n",
    "- __Memory__ : Hard drive size.\n",
    "- __Gpu__ : GPU model.\n",
    "- __OpSys__ : Operating system.\n",
    "- __Weight__ : Laptop weight.\n",
    "- __Price_euros__ : Price in Euros.\n",
    "\n",
    "## Dataset Inspection\n",
    "\n",
    "Next we check for the encoding used by using the `chardet` module on the raw byte data:\n"
   ]
  },
  {
   "cell_type": "code",
   "execution_count": 1,
   "metadata": {},
   "outputs": [
    {
     "name": "stdout",
     "output_type": "stream",
     "text": [
      "{'encoding': 'ISO-8859-1', 'confidence': 0.73, 'language': ''}\n"
     ]
    }
   ],
   "source": [
    "import chardet\n",
    "\n",
    "with open(\"/Users/abdallarashwan/Documents/Python Projects/Datasets/laptops.csv\" , 'rb') as rawdata:\n",
    "    result = chardet.detect(rawdata.read())\n",
    "print(result)"
   ]
  },
  {
   "cell_type": "markdown",
   "metadata": {},
   "source": [
    "We start by reading the data from the CSV file using the `CSV` module by specifing the encoding `ISO-8859-1` and save it as a list in order to have a first look at the dataset.\n"
   ]
  },
  {
   "cell_type": "code",
   "execution_count": 2,
   "metadata": {},
   "outputs": [],
   "source": [
    "import csv\n",
    "\n",
    "with open(\"/Users/abdallarashwan/Documents/Python Projects/Datasets/laptops.csv\" , encoding = 'ISO-8859-1' ) as file:   # use absolute path of the downloaded CSV file\n",
    "    reader = csv.reader(file)\n",
    "    rows = list(reader)\n",
    "    header = rows[0]\n",
    "    rows = rows[1:]"
   ]
  },
  {
   "cell_type": "code",
   "execution_count": 3,
   "metadata": {},
   "outputs": [
    {
     "name": "stdout",
     "output_type": "stream",
     "text": [
      "['', 'Company', 'Product', 'TypeName', 'Inches', 'ScreenResolution', 'Cpu', 'Ram', 'Memory', 'Gpu', 'OpSys', 'Weight', 'Price_euros']\n"
     ]
    }
   ],
   "source": [
    "print(header)"
   ]
  },
  {
   "cell_type": "code",
   "execution_count": 4,
   "metadata": {},
   "outputs": [
    {
     "name": "stdout",
     "output_type": "stream",
     "text": [
      "[['1', 'Apple', 'MacBook Pro', 'Ultrabook', '13.3', 'IPS Panel Retina Display 2560x1600', 'Intel Core i5 2.3GHz', '8GB', '128GB SSD', 'Intel Iris Plus Graphics 640', 'macOS', '1.37kg', '1339.69'], ['2', 'Apple', 'Macbook Air', 'Ultrabook', '13.3', '1440x900', 'Intel Core i5 1.8GHz', '8GB', '128GB Flash Storage', 'Intel HD Graphics 6000', 'macOS', '1.34kg', '898.94'], ['3', 'HP', '250 G6', 'Notebook', '15.6', 'Full HD 1920x1080', 'Intel Core i5 7200U 2.5GHz', '8GB', '256GB SSD', 'Intel HD Graphics 620', 'No OS', '1.86kg', '575.00'], ['4', 'Apple', 'MacBook Pro', 'Ultrabook', '15.4', 'IPS Panel Retina Display 2880x1800', 'Intel Core i7 2.7GHz', '16GB', '512GB SSD', 'AMD Radeon Pro 455', 'macOS', '1.83kg', '2537.45'], ['5', 'Apple', 'MacBook Pro', 'Ultrabook', '13.3', 'IPS Panel Retina Display 2560x1600', 'Intel Core i5 3.1GHz', '8GB', '256GB SSD', 'Intel Iris Plus Graphics 650', 'macOS', '1.37kg', '1803.60']]\n"
     ]
    }
   ],
   "source": [
    "print(rows[:5])"
   ]
  },
  {
   "cell_type": "markdown",
   "metadata": {},
   "source": [
    "## Class Implementation \n",
    "\n",
    "In this step we start implementing our class `Inventory` which has the following parameters:\n",
    "- __header__ : Header from the dataset as list.\n",
    "- __rows__ : laptop data as a list of lists.\n",
    "- __row_from_id__ : Dictionary of rows with ID as the key.\n"
   ]
  },
  {
   "cell_type": "code",
   "execution_count": 5,
   "metadata": {},
   "outputs": [],
   "source": [
    "class Inventory():\n",
    "    def __init__(self , file_name):\n",
    "        with open(file_name , encoding = 'ISO-8859-1' ) as file:\n",
    "            reader = csv.reader(file)\n",
    "            rows = list(reader)\n",
    "        self.header = rows[0]\n",
    "        self.rows = rows[1:]\n",
    "        for row in self.rows:\n",
    "            row[-1] = float(row[-1]) \n",
    "            \n",
    "        self.row_from_id = {}\n",
    "        self.prices = set()\n",
    "        for row in self.rows:\n",
    "            self.row_from_id[row[0]] = row\n",
    "            self.prices.add(row[-1])\n",
    "            \n",
    "        self.rows_sorted_by_price = sorted(self.rows)\n",
    "    \n",
    "               \n",
    "            \n",
    "    def get_laptop_from_id(self , laptop_id):\n",
    "        for row in self.rows:\n",
    "            if row[0] == laptop_id:\n",
    "                return row\n",
    "        return None\n",
    "            \n",
    "    def get_laptop_from_id_preprocessing(self , laptop_id):\n",
    "        if laptop_id in self.row_from_id:\n",
    "            return self.row_from_id[laptop_id]\n",
    "        else:\n",
    "            return None\n",
    "        \n",
    "    def check_promotion_dollars(self , amount):\n",
    "        for row in self.rows:\n",
    "            if row[-1] == amount :\n",
    "                return True\n",
    "        for r1 in self.rows:\n",
    "            for r2 in self.rows:\n",
    "                if r1[-1] + r2[-1] == amount:\n",
    "                    return True\n",
    "        return False\n",
    "    \n",
    "    def check_promotion_dollars_preprocessing(self , amount):\n",
    "        if amount in self.prices:\n",
    "            return True\n",
    "        for price in self.prices:\n",
    "            if amount - price in self.prices:\n",
    "                return True\n",
    "        return False\n",
    "    \n",
    "    def find_laptop_by_price_binary_search(self , target_price):\n",
    "        for row in self.rows:\n",
    "            if row[-1] == target_price:\n",
    "                return row\n",
    "        return -1\n",
    "    \n",
    "    def find_laptop_by_price_log_search(self , target_price):\n",
    "        range_start = 0\n",
    "        range_end = len(self.rows_sorted_by_price) - 1\n",
    "        while range_start < range_end:\n",
    "            range_middle = (range_end + range_start) // 2\n",
    "            value = self.rows_sorted_by_price[range_middle][-1]\n",
    "            if value == target_price:\n",
    "                return self.row_from_id[range_middle]\n",
    "            elif value < target_price:\n",
    "                range_start = range_middle + 1\n",
    "            else:\n",
    "                range_end = range_middle - 1\n",
    "        if self.rows_sorted_by_price[range_start][-1] != target_price:\n",
    "            return -1\n",
    "        return self.rows_sorted_by_price[range_start]\n",
    "    \n",
    "    "
   ]
  },
  {
   "cell_type": "code",
   "execution_count": 6,
   "metadata": {},
   "outputs": [
    {
     "name": "stdout",
     "output_type": "stream",
     "text": [
      "['', 'Company', 'Product', 'TypeName', 'Inches', 'ScreenResolution', 'Cpu', 'Ram', 'Memory', 'Gpu', 'OpSys', 'Weight', 'Price_euros']\n",
      "1303\n"
     ]
    }
   ],
   "source": [
    "inventory = Inventory(\"/Users/abdallarashwan/Documents/Python Projects/Datasets/laptops.csv\")\n",
    "print(inventory.header)\n",
    "print(len(inventory.rows))"
   ]
  },
  {
   "cell_type": "markdown",
   "metadata": {},
   "source": [
    "## Class methods testing"
   ]
  },
  {
   "cell_type": "code",
   "execution_count": 7,
   "metadata": {},
   "outputs": [
    {
     "name": "stdout",
     "output_type": "stream",
     "text": [
      "['352', 'HP', 'Stream 14-AX001nv', 'Notebook', '14', '1366x768', 'Intel Celeron Dual Core N3060 1.6GHz', '2GB', '32GB Flash Storage', 'Intel HD Graphics 400', 'Windows 10', '1.44kg', 279.0]\n"
     ]
    }
   ],
   "source": [
    "print(inventory.get_laptop_from_id('352'))"
   ]
  },
  {
   "cell_type": "code",
   "execution_count": 8,
   "metadata": {},
   "outputs": [
    {
     "name": "stdout",
     "output_type": "stream",
     "text": [
      "['1320', 'Asus', 'X553SA-XX031T (N3050/4GB/500GB/W10)', 'Notebook', '15.6', '1366x768', 'Intel Celeron Dual Core N3050 1.6GHz', '4GB', '500GB HDD', 'Intel HD Graphics', 'Windows 10', '2.2kg', 369.0]\n"
     ]
    }
   ],
   "source": [
    "print(inventory.get_laptop_from_id_preprocessing('1320'))"
   ]
  },
  {
   "cell_type": "code",
   "execution_count": 9,
   "metadata": {},
   "outputs": [
    {
     "name": "stdout",
     "output_type": "stream",
     "text": [
      "True\n"
     ]
    }
   ],
   "source": [
    "print(inventory.check_promotion_dollars(1000))"
   ]
  },
  {
   "cell_type": "code",
   "execution_count": 10,
   "metadata": {},
   "outputs": [
    {
     "name": "stdout",
     "output_type": "stream",
     "text": [
      "False\n"
     ]
    }
   ],
   "source": [
    "print(inventory.check_promotion_dollars(100))"
   ]
  },
  {
   "cell_type": "code",
   "execution_count": 11,
   "metadata": {},
   "outputs": [
    {
     "name": "stdout",
     "output_type": "stream",
     "text": [
      "True\n"
     ]
    }
   ],
   "source": [
    "print(inventory.check_promotion_dollars_preprocessing(1000))"
   ]
  },
  {
   "cell_type": "code",
   "execution_count": 12,
   "metadata": {},
   "outputs": [
    {
     "name": "stdout",
     "output_type": "stream",
     "text": [
      "False\n"
     ]
    }
   ],
   "source": [
    "print(inventory.check_promotion_dollars_preprocessing(100))"
   ]
  },
  {
   "cell_type": "code",
   "execution_count": 13,
   "metadata": {},
   "outputs": [
    {
     "name": "stdout",
     "output_type": "stream",
     "text": [
      "['857', 'Asus', 'ZenBook UX310UQ-GL026T', 'Ultrabook', '13.3', 'IPS Panel Full HD 1920x1080', 'Intel Core i5 6200U 2.3GHz', '8GB', '512GB SSD', 'Nvidia GeForce 940M', 'Windows 10', '1.45kg', 1026.0]\n"
     ]
    }
   ],
   "source": [
    "print(inventory.find_laptop_by_price_binary_search(1026.00))"
   ]
  },
  {
   "cell_type": "code",
   "execution_count": 14,
   "metadata": {},
   "outputs": [
    {
     "name": "stdout",
     "output_type": "stream",
     "text": [
      "-1\n"
     ]
    }
   ],
   "source": [
    "print(inventory.find_laptop_by_price_binary_search(10000))"
   ]
  },
  {
   "cell_type": "code",
   "execution_count": 15,
   "metadata": {
    "scrolled": true
   },
   "outputs": [
    {
     "name": "stdout",
     "output_type": "stream",
     "text": [
      "['857', 'Asus', 'ZenBook UX310UQ-GL026T', 'Ultrabook', '13.3', 'IPS Panel Full HD 1920x1080', 'Intel Core i5 6200U 2.3GHz', '8GB', '512GB SSD', 'Nvidia GeForce 940M', 'Windows 10', '1.45kg', 1026.0]\n"
     ]
    }
   ],
   "source": [
    "print(inventory.find_laptop_by_price_log_search(1026))"
   ]
  },
  {
   "cell_type": "code",
   "execution_count": 24,
   "metadata": {},
   "outputs": [
    {
     "name": "stdout",
     "output_type": "stream",
     "text": [
      "-1\n"
     ]
    }
   ],
   "source": [
    "print(inventory.find_laptop_by_price_log_search(10000))"
   ]
  },
  {
   "cell_type": "markdown",
   "metadata": {},
   "source": [
    "## Analysing get laptop from ID methods\n",
    "\n",
    "Next we analyis the two implemented methods for getting the laptop from ID.\n",
    "\n",
    "We do so by calculating the total time needed (in seconds) to get 1000 laptops.\n",
    "Using the time module we can calculate the execution time for each call of the method\n",
    "The random module will be used to generate the list of IDs needed for the analysis.\n",
    "\n"
   ]
  },
  {
   "cell_type": "code",
   "execution_count": 16,
   "metadata": {},
   "outputs": [],
   "source": [
    "import random\n",
    "import time\n",
    "\n",
    "IDs = [str(random.randint(0 , 1300)) for _ in range(1001)]\n",
    "\n",
    "total_time = 0\n",
    "for ID in IDs:\n",
    "    start = time.time()\n",
    "    inventory.get_laptop_from_id(ID)\n",
    "    end = time.time()\n",
    "    total_time += end - start\n",
    "    \n",
    "total_time_preprocessing = 0\n",
    "for ID in IDs:\n",
    "    start = time.time()\n",
    "    inventory.get_laptop_from_id_preprocessing(ID)\n",
    "    end = time.time()\n",
    "    total_time_preprocessing += end - start\n",
    "    \n"
   ]
  },
  {
   "cell_type": "code",
   "execution_count": 26,
   "metadata": {},
   "outputs": [
    {
     "name": "stdout",
     "output_type": "stream",
     "text": [
      "Without preprocessing :  0.04925704002380371\n",
      "With preprocessing :  0.0004227161407470703\n",
      "116.0  times faster\n"
     ]
    }
   ],
   "source": [
    "print(\"Without preprocessing : \",total_time)\n",
    "print(\"With preprocessing : \",total_time_preprocessing)\n",
    "print(total_time // total_time_preprocessing , \" times faster\")"
   ]
  },
  {
   "cell_type": "markdown",
   "metadata": {},
   "source": [
    "## Analysing Promotion methods\n",
    "\n",
    "Similarly we compare the two implemented methods as follows:\n"
   ]
  },
  {
   "cell_type": "code",
   "execution_count": 18,
   "metadata": {},
   "outputs": [],
   "source": [
    "prices = [random.randint( 100 , 5000) for _ in range(1001)]\n",
    "\n",
    "total_time_promotion = 0\n",
    "for price in prices:\n",
    "    start = time.time()\n",
    "    inventory.check_promotion_dollars(price)\n",
    "    end = time.time()\n",
    "    total_time_promotion += end - start\n",
    "    \n",
    "total_time_promotion_preprocessing = 0\n",
    "for price in prices:\n",
    "    start = time.time()\n",
    "    inventory.check_promotion_dollars_preprocessing(price)\n",
    "    end = time.time()\n",
    "    total_time_promotion_preprocessing += end - start\n",
    "    "
   ]
  },
  {
   "cell_type": "code",
   "execution_count": 25,
   "metadata": {},
   "outputs": [
    {
     "name": "stdout",
     "output_type": "stream",
     "text": [
      "Without preprocessing :  16.387206315994263\n",
      "With preprocessing :  0.011806249618530273\n",
      "1388.0  times faster\n"
     ]
    }
   ],
   "source": [
    "print(\"Without preprocessing : \",total_time_promotion)\n",
    "print(\"With preprocessing : \",total_time_promotion_preprocessing)\n",
    "print(total_time_promotion // total_time_promotion_preprocessing , \" times faster\")"
   ]
  },
  {
   "cell_type": "markdown",
   "metadata": {},
   "source": [
    "## Analysing find laptop by price methods"
   ]
  },
  {
   "cell_type": "code",
   "execution_count": 23,
   "metadata": {},
   "outputs": [
    {
     "name": "stdout",
     "output_type": "stream",
     "text": [
      "Using binary search :  0.00024390220642089844\n",
      "Using log search :  6.604194641113281e-05\n",
      "3.0  times faster\n"
     ]
    }
   ],
   "source": [
    "start = time.time()\n",
    "inventory.find_laptop_by_price_binary_search(1024)\n",
    "end = time.time()\n",
    "t1 = end - start\n",
    "\n",
    "start = time.time()\n",
    "inventory.find_laptop_by_price_log_search(1024)\n",
    "end = time.time()\n",
    "t2 = end - start\n",
    "\n",
    "print(\"Using binary search : \",t1)\n",
    "print(\"Using log search : \",t2)\n",
    "print(t1 // t2 , \" times faster\")"
   ]
  }
 ],
 "metadata": {
  "kernelspec": {
   "display_name": "Python 3",
   "language": "python",
   "name": "python3"
  },
  "language_info": {
   "codemirror_mode": {
    "name": "ipython",
    "version": 3
   },
   "file_extension": ".py",
   "mimetype": "text/x-python",
   "name": "python",
   "nbconvert_exporter": "python",
   "pygments_lexer": "ipython3",
   "version": "3.7.6"
  }
 },
 "nbformat": 4,
 "nbformat_minor": 4
}
